{
 "cells": [
  {
   "cell_type": "markdown",
   "id": "cf98a74b-17e2-454b-abab-7744b7ed612e",
   "metadata": {},
   "source": [
    "# Stacks And Queues\n",
    "\n",
    "After having seen what a linked list is (and how simple it is), we can have a closer look into some of their applications.\n",
    "\n",
    "\n",
    "A stack is set of elements that are stored on top of each other enabling easy access to the last element. The only difference to a linked list is a size counter keeping track of the total number of elements present in the stack.\n",
    "\n",
    "When working with stacks we would also need to keep in mind that adding an element on top of the stack is called ```push``` and removing from the top of the stack is called ```pop```.\n",
    "\n",
    "That's it..."
   ]
  },
  {
   "cell_type": "markdown",
   "id": "eebd52d9-86b3-4ed2-93ea-a1f0bb424b45",
   "metadata": {},
   "source": [
    "## Implementing a Stack with a Linked List\n",
    "\n",
    "Well, thats a simple task as our ```LinkedList``` from the previous notebook is almost a stack. All we need is to add a counter, a special ```append``` function that adds an element on top of the stack, called ```push``` as well as a ```pop``` function to remove elements from thee top of the stack.\n"
   ]
  },
  {
   "cell_type": "code",
   "execution_count": 43,
   "id": "0d82aa51-d293-4582-93a6-3af493cbd08b",
   "metadata": {},
   "outputs": [],
   "source": [
    "# lets take over the Node implementation from the previous notebook\n",
    "class Node:\n",
    "    def __init__(self, value):\n",
    "        self.value = value\n",
    "        self.next = None\n",
    "    def __repr__(self):\n",
    "        return str(self.value)"
   ]
  },
  {
   "cell_type": "code",
   "execution_count": 44,
   "id": "ab1bd466-f3ae-43ae-951c-73223e6d32ff",
   "metadata": {},
   "outputs": [],
   "source": [
    "# and create a Stack class \n",
    "# => a LinkedList class with one additional member: stack_size\n",
    "#    and the two functions push and pop\n",
    "# For convenience, we would also take over the print values function from the LinkedList implementation\n",
    "# and add two simple helpers: is_empty and size\n",
    "\n",
    "class Stack:\n",
    "    def __init__(self):\n",
    "        self.head = None\n",
    "        self.stack_size = 0\n",
    "\n",
    "    def push(self, value):\n",
    "        \"\"\" Add element on top of stack \"\"\"\n",
    "        self.stack_size += 1 # increase stack size\n",
    "        new_element = Node(value)\n",
    "        if self.head is None:\n",
    "            # our stack is empty, init head\n",
    "            self.head = new_element\n",
    "            return\n",
    "        # stack is not empty, update head \n",
    "        new_element.next = self.head  # move head behind current node\n",
    "        self.head = new_element\n",
    "\n",
    "    def pop(self):\n",
    "        \"\"\" Remove element from top of stack => reverse of push. \"\"\"\n",
    "        if not self.is_empty(): # make sure the stack is not already empty\n",
    "            head_old = self.head\n",
    "            self.head = self.head.next\n",
    "            self.stack_size -= 1\n",
    "            return head_old # we will need this for the Qeue implementation later\n",
    "        \n",
    "    def print_values(self):\n",
    "        \"\"\" Traverse Stack and print values \"\"\"\n",
    "        current_node = self.head\n",
    "        while current_node:\n",
    "            print(current_node.value)\n",
    "            current_node = current_node.next\n",
    "\n",
    "    def is_empty(self):\n",
    "        \"\"\" Returns true if stack has no elements \"\"\"\n",
    "        return self.stack_size == 0\n",
    "\n",
    "    def size(self):\n",
    "        \"\"\" Returns the number of elements in the stack \"\"\"\n",
    "        return self.stack_size\n",
    "    "
   ]
  },
  {
   "cell_type": "code",
   "execution_count": 45,
   "id": "7b31c88a-32c9-4bae-ad1a-c5b236268c9c",
   "metadata": {},
   "outputs": [
    {
     "name": "stdout",
     "output_type": "stream",
     "text": [
      "No. of elements in stack: 3\n",
      "Contents of stack\n",
      "3\n",
      "2\n",
      "1\n"
     ]
    }
   ],
   "source": [
    "stack = Stack()\n",
    "\n",
    "stack.push(1)\n",
    "stack.push(2)\n",
    "stack.push(3)\n",
    "print(\"No. of elements in stack: \" + str(stack.size()))\n",
    "print(\"Contents of stack\")\n",
    "stack.print_values()\n"
   ]
  },
  {
   "cell_type": "code",
   "execution_count": 46,
   "id": "87b8a6b1-53d6-4f1b-accc-d01405a78cc5",
   "metadata": {},
   "outputs": [
    {
     "name": "stdout",
     "output_type": "stream",
     "text": [
      "No. of elements in stack: 1\n",
      "Contents of stack\n",
      "1\n"
     ]
    }
   ],
   "source": [
    "stack.pop()\n",
    "stack.pop()\n",
    "print(\"No. of elements in stack: \" + str(stack.size()))\n",
    "print(\"Contents of stack\")\n",
    "stack.print_values()"
   ]
  },
  {
   "cell_type": "markdown",
   "id": "bd782cba-ad98-4b21-aef3-4888db06fe52",
   "metadata": {},
   "source": [
    "## Implementing a Queue with a Stack\n",
    "\n",
    "A queue is a special type of stack that has two major functions: ```enqueue``` and ```dequeue```. \n",
    "\n",
    "With ```enqueue``` we add an item (preferably at the tail of a linked list) and with ```dequeue```, we remove the head element and move the remaining elements by one place.\n",
    "\n",
    "This can be easily implemented using 2 stacks: one for the input elements and one for the output elements."
   ]
  },
  {
   "cell_type": "code",
   "execution_count": 63,
   "id": "a171cb39-e116-4f06-b6c1-86a3b85309a0",
   "metadata": {},
   "outputs": [],
   "source": [
    "class StackQueue:\n",
    "    def __init__(self):\n",
    "        self.input_stack=Stack()\n",
    "        self.output_stack=Stack()\n",
    "        \n",
    "    def size(self):\n",
    "         return self.input_stack.size() + self.output_stack.size()\n",
    "        \n",
    "    def enqueue(self,item):\n",
    "        \"\"\" Add element to input stack \"\"\"\n",
    "        self.input_stack.push(item)\n",
    "        \n",
    "    def dequeue(self):\n",
    "        \"\"\" Remove element from output stack and update input stack \"\"\"\n",
    "        if self.output_stack.is_empty():\n",
    "            while not self.input_stack.is_empty():\n",
    "                self.output_stack.push(self.input_stack.pop())\n",
    "        return self.output_stack.pop()"
   ]
  },
  {
   "cell_type": "code",
   "execution_count": 64,
   "id": "303438b7-c46a-49bb-b0d3-ec83224bb9d3",
   "metadata": {},
   "outputs": [],
   "source": [
    "queue = StackQueue()\n",
    "\n",
    "queue.enqueue(1)\n",
    "queue.enqueue(2)\n",
    "queue.enqueue(3)"
   ]
  },
  {
   "cell_type": "code",
   "execution_count": 65,
   "id": "49c8ae9e-6589-4c8e-a680-52c6c2e4a022",
   "metadata": {},
   "outputs": [
    {
     "name": "stdout",
     "output_type": "stream",
     "text": [
      "3\n",
      "2\n",
      "1\n"
     ]
    }
   ],
   "source": [
    "queue.input_stack.print_values()"
   ]
  },
  {
   "cell_type": "code",
   "execution_count": 66,
   "id": "4fb90ef3-85a6-4e75-a9c5-798c69e52d63",
   "metadata": {},
   "outputs": [
    {
     "name": "stdout",
     "output_type": "stream",
     "text": [
      "1\n",
      "2\n",
      "3\n"
     ]
    }
   ],
   "source": [
    "print(queue.dequeue())\n",
    "print(queue.dequeue())\n",
    "print(queue.dequeue())"
   ]
  },
  {
   "cell_type": "markdown",
   "id": "7b263428-febc-4bcd-9388-aef5f543b9ff",
   "metadata": {},
   "source": [
    "## Implementing a Queue with a Python list\n",
    "\n",
    "Having two stacks is definitely a bit of an overkill for a queue (and a bit confusing). Let's implement a queue using the built-in Python list datastructure."
   ]
  },
  {
   "cell_type": "code",
   "execution_count": 1,
   "id": "6a57c5c0-3914-4eca-a298-176077432599",
   "metadata": {},
   "outputs": [],
   "source": [
    "class Queue:\n",
    "    def __init__(self):\n",
    "         self.stack = []\n",
    "    \n",
    "    def size(self):\n",
    "         return len(self.stack)\n",
    "    \n",
    "    def enqueue(self, item):\n",
    "         \"\"\" Add element to list \"\"\"\n",
    "         self.stack.append(item) # append at end of queue\n",
    "\n",
    "    def dequeue(self):\n",
    "         \"\"\" Remove element from top of list \"\"\"\n",
    "         return self.stack.pop(0) # pop first element\n",
    "\n",
    "    def print_values(self):\n",
    "        \"\"\" Iterate trhough queue and  \"\"\"\n",
    "        for item in self.stack:\n",
    "            print(item)"
   ]
  },
  {
   "cell_type": "code",
   "execution_count": 2,
   "id": "bb9e3a6f-11c0-4c33-8c2d-37caaed96ffb",
   "metadata": {},
   "outputs": [
    {
     "name": "stdout",
     "output_type": "stream",
     "text": [
      "1\n",
      "2\n",
      "3\n"
     ]
    }
   ],
   "source": [
    "queue = Queue()\n",
    "\n",
    "queue.enqueue(1)\n",
    "queue.enqueue(2)\n",
    "queue.enqueue(3)\n",
    "\n",
    "queue.print_values()"
   ]
  },
  {
   "cell_type": "code",
   "execution_count": 3,
   "id": "8895f703-166a-4966-8f24-9d3ea95b271e",
   "metadata": {},
   "outputs": [
    {
     "name": "stdout",
     "output_type": "stream",
     "text": [
      "1\n"
     ]
    }
   ],
   "source": [
    "print(queue.dequeue())"
   ]
  },
  {
   "cell_type": "code",
   "execution_count": 4,
   "id": "e6b3518f-32c1-4276-a6a1-b335e9bf902a",
   "metadata": {},
   "outputs": [
    {
     "name": "stdout",
     "output_type": "stream",
     "text": [
      "2\n",
      "3\n"
     ]
    }
   ],
   "source": [
    "queue.print_values()"
   ]
  },
  {
   "cell_type": "code",
   "execution_count": null,
   "id": "8237ca13-0386-42c0-b803-65dc2819beda",
   "metadata": {},
   "outputs": [],
   "source": []
  }
 ],
 "metadata": {
  "kernelspec": {
   "display_name": "Python 3 (ipykernel)",
   "language": "python",
   "name": "python3"
  },
  "language_info": {
   "codemirror_mode": {
    "name": "ipython",
    "version": 3
   },
   "file_extension": ".py",
   "mimetype": "text/x-python",
   "name": "python",
   "nbconvert_exporter": "python",
   "pygments_lexer": "ipython3",
   "version": "3.9.5"
  }
 },
 "nbformat": 4,
 "nbformat_minor": 5
}
