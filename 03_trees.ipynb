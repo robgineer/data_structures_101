{
 "cells": [
  {
   "cell_type": "markdown",
   "id": "06874b4e-764a-44ea-9432-7d3593cdb4a1",
   "metadata": {},
   "source": [
    "# Trees\n",
    "\n",
    "Compared to a stack, definitely a more exciting structure based on linked lists enabling handy applications.\n",
    "\n",
    "We will be implementing a binary tree that is a linked list with up to two successor elements.\n",
    "\n",
    "```\n",
    "       root_node\n",
    "      /         \\\n",
    " left_node     right_node\n",
    "```      \n",
    "\n",
    "The ```TreeNode``` class is very similar to the ```Node``` class. The difference is that we add three references (left node and the right node) as well as a few helper functions for updating the node value, its references and checking if the references are present.\n",
    "\n",
    "The naming also differs since we call the first element of the Node the `root` node (similar to the `head` node in a linked list). Additionally, since the we have more than just one `tail` the nodes at the end of the tree are called `children` (not `tails`)."
   ]
  },
  {
   "cell_type": "code",
   "execution_count": 104,
   "id": "315ddc96-9a22-420b-ae8f-7da45db70380",
   "metadata": {},
   "outputs": [],
   "source": [
    "class BinaryTreeNode:\n",
    "    def __init__(self, value=None):\n",
    "        self.value = value\n",
    "        self.left_node = None\n",
    "        self.right_node = None\n",
    "\n",
    "    def set_value(self, value):\n",
    "        \"\"\" Set the value of the node \"\"\"\n",
    "        self.value = value\n",
    "\n",
    "    def get_value(self):\n",
    "        \"\"\" Get the value of the node \"\"\"\n",
    "        return self.value\n",
    "\n",
    "    def set_left_node(self, node):\n",
    "        \"\"\" Set the left node \"\"\"\n",
    "        self.left_node = node\n",
    "\n",
    "    def set_right_node(self, node):\n",
    "        \"\"\" Set the right node \"\"\"\n",
    "        self.right_node = node\n",
    "\n",
    "    def get_parent_node(self):\n",
    "        \"\"\" Get the parent node \"\"\"\n",
    "        return self.parent_node\n",
    "\n",
    "    def get_left_node(self):\n",
    "        return self.left_node\n",
    "\n",
    "    def get_right_node(self):\n",
    "        return self.right_node\n",
    "\n",
    "    def has_left_node(self):\n",
    "        return self.left_node != None\n",
    "\n",
    "    def has_right_node(self):\n",
    "        return self.right_node != None\n"
   ]
  },
  {
   "cell_type": "markdown",
   "id": "ac81d854-40c1-4307-a4f6-1d79a7ad4c73",
   "metadata": {},
   "source": [
    "With this structure, we can already create simple trees. An example is a simple family tree where each parent can only have up to two children.\n",
    "\n",
    "\n",
    "```\n",
    "          Sarah\n",
    "         /     \\\n",
    "       Maria   Ken\n",
    "      /    \\\n",
    "  Michael  Lisa \n",
    "```\n"
   ]
  },
  {
   "cell_type": "code",
   "execution_count": 105,
   "id": "9a59a073-ee4d-43f7-94be-9fa2e0324c5d",
   "metadata": {},
   "outputs": [
    {
     "name": "stdout",
     "output_type": "stream",
     "text": [
      "Sarah\n",
      "Maria\n",
      "Ken\n"
     ]
    }
   ],
   "source": [
    "mother = BinaryTreeNode(\"Sarah\")\n",
    "daugther = BinaryTreeNode(\"Maria\")\n",
    "son = BinaryTreeNode(\"Ken\")\n",
    "grandson = BinaryTreeNode(\"Michael\")\n",
    "granddaugther = BinaryTreeNode(\"Lisa\")\n",
    "mother.set_left_node(daugther)\n",
    "mother.set_right_node(son)\n",
    "daugther.set_left_node(grandson)\n",
    "daugther.set_right_node(granddaugther)\n",
    "print(mother.get_value())\n",
    "print(mother.get_left_node().get_value())\n",
    "print(mother.get_right_node().get_value())"
   ]
  },
  {
   "cell_type": "markdown",
   "id": "be047b4c-001c-4c83-be4e-3043641eee93",
   "metadata": {},
   "source": [
    "Once we have the ```TreeNode```, implementing the actual `Tree` is straightforward and similar to the `LinkedList` implementation. The `Tree` would simply keep track of the root node and add useful helpers for its traversal."
   ]
  },
  {
   "cell_type": "code",
   "execution_count": 106,
   "id": "89487193-eac4-4133-8daa-492aec6bb568",
   "metadata": {},
   "outputs": [],
   "source": [
    "class BinaryTree():\n",
    "    def __init__(self,value=None):\n",
    "        self.root = value\n",
    "        \n",
    "    def get_root(self):\n",
    "        return self.root"
   ]
  },
  {
   "cell_type": "code",
   "execution_count": 107,
   "id": "0366bfeb-b67f-4aa3-a8da-baa2cf17d1bb",
   "metadata": {},
   "outputs": [],
   "source": [
    "family_tree = BinaryTree(mother)"
   ]
  },
  {
   "cell_type": "code",
   "execution_count": 108,
   "id": "a14c1328-3592-4d84-b8ce-2f4ecf4746ec",
   "metadata": {},
   "outputs": [
    {
     "data": {
      "text/plain": [
       "'Sarah'"
      ]
     },
     "execution_count": 108,
     "metadata": {},
     "output_type": "execute_result"
    }
   ],
   "source": [
    "family_tree.get_root().get_value()"
   ]
  },
  {
   "cell_type": "markdown",
   "id": "730482d0-8706-4a40-9beb-504ba3c03994",
   "metadata": {},
   "source": [
    "## Tree Traversal\n",
    "\n",
    "There are two different approaches in traversing a tree structure:\n",
    "\n",
    "1. Depth First Search (DFS)\n",
    "   => look for child nodes first, implemented easily using a stack (refer below)\n",
    "3. Breadth First Search (BFS)\n",
    "   => look for all nodes on same level first, implemented easily using a queue\n",
    "\n"
   ]
  },
  {
   "cell_type": "markdown",
   "id": "c556c764-2106-4237-a36f-51f530d07955",
   "metadata": {},
   "source": [
    "### Depth First Search (DFS)\n",
    "\n",
    "DFS has three sub-types:\n",
    "\n",
    "1. Pre-order: start from root and visit each child with left node preference.\n",
    "2. In-order: start left most child, visit parent of left most child and visit all its children.\n",
    "3. Post-order: start from left most child, visit all children first.\n",
    "\n",
    "\n",
    "We will be implementing the pre-order dfs in the following"
   ]
  },
  {
   "cell_type": "markdown",
   "id": "a6cfbbfb-bbd8-40de-bd94-d5e2ac85be7e",
   "metadata": {},
   "source": [
    "#### Pre-order traversal\n",
    "\n",
    "We will use a simple stack implementation for the dfs by utilizing the Python built-in datatype `list`."
   ]
  },
  {
   "cell_type": "code",
   "execution_count": 113,
   "id": "8ccdac81-c5cf-4af3-ac53-330422d687a1",
   "metadata": {},
   "outputs": [],
   "source": [
    "class Stack():\n",
    "    def __init__(self):\n",
    "        self.storage = []\n",
    "    \n",
    "    def push(self,value):\n",
    "        \"\"\" Add element on top of stack \"\"\"\n",
    "        self.storage.append(value)\n",
    "\n",
    "    def pop(self):\n",
    "        \"\"\" Remove element from top of stack => reverse of push. \"\"\"\n",
    "        return self.storage.pop()\n",
    "\n",
    "    def top(self):\n",
    "        \"\"\" View element from top of stack. Does not remove element from stack \"\"\"\n",
    "        if not self.is_empty():\n",
    "            return self.storage[-1]\n",
    "        else:\n",
    "            return None\n",
    "\n",
    "    def is_empty(self):\n",
    "        \"\"\" Show if stack is empty \"\"\"\n",
    "        return len(self.storage) == 0"
   ]
  },
  {
   "cell_type": "markdown",
   "id": "01cc930a-a399-4623-a42f-e2e2ba426c95",
   "metadata": {},
   "source": [
    "In addition to the Stack, we would also need to define a new structure that will be stored in the stack and will keep track of the already visited nodes."
   ]
  },
  {
   "cell_type": "code",
   "execution_count": 110,
   "id": "2b79f82f-8582-4180-95d8-99202f6ef186",
   "metadata": {},
   "outputs": [],
   "source": [
    "class NodeState(object):\n",
    "    def __init__(self,node):\n",
    "        self.node = node\n",
    "        self.visited_left = False\n",
    "        self.visited_right = False\n",
    "        \n",
    "    def get_node(self):\n",
    "        return self.node\n",
    "    \n",
    "    def has_visited_left(self):\n",
    "        return self.visited_left\n",
    "    \n",
    "    def has_visited_right(self):\n",
    "        return self.visited_right\n",
    "    \n",
    "    def set_visited_left(self):\n",
    "        self.visited_left = True\n",
    "        \n",
    "    def set_visited_right(self):\n",
    "        self.visited_right = True\n"
   ]
  },
  {
   "cell_type": "markdown",
   "id": "8b8653ce-6bc7-4b5d-bc1f-d5e31e595cd9",
   "metadata": {},
   "source": [
    "Having all the necessary structures defined, lets extend the `BinaryTree` class with a traverse function.\n",
    "\n",
    "The idea is simple:\n",
    "1. start from the root node\n",
    "2. move down to the left node\n",
    "3. if no left node is found, move to the right node\n",
    "4. if no left or right node is found, go back to the parent node and check if there is a right node\n",
    "5. keep track of the visited nodes using the state implemented above\n",
    "\n",
    "We initialize the stack with the root node. For every move down the structure, we place the current node onto the stack. In case a node does neither have a left or right child, we remove the node from the stack.\n",
    "\n",
    "Once the stack is empty, we are finished."
   ]
  },
  {
   "cell_type": "code",
   "execution_count": 114,
   "id": "06ba5729-8dae-488b-991e-d19fb866d253",
   "metadata": {},
   "outputs": [],
   "source": [
    "class BinaryTree():\n",
    "    def __init__(self,value=None):\n",
    "        self.root = value\n",
    "        \n",
    "    def get_root(self):\n",
    "        return self.root\n",
    "\n",
    "    def pre_order_dfs(self):\n",
    "        # get the root node\n",
    "        root_node = self.root\n",
    "        # init the current node\n",
    "        current_node = root_node\n",
    "        # init state for the node\n",
    "        node_state = NodeState(current_node)\n",
    "        # create a stack of states\n",
    "        state_stack = Stack()\n",
    "        state_stack.push(node_state)\n",
    "    \n",
    "        while not state_stack.is_empty():\n",
    "            print(\"current node value: \" + str(current_node.get_value()))\n",
    "            if current_node.has_left_node() and not node_state.has_visited_left():\n",
    "                # mark current node as visited\n",
    "                node_state.set_visited_left()\n",
    "                # get next node\n",
    "                current_node = current_node.get_left_node()\n",
    "                # create a state for next node\n",
    "                node_state = NodeState(current_node)\n",
    "                # push state of next node to stack\n",
    "                state_stack.push(node_state)\n",
    "            elif current_node.has_right_node() and not node_state.has_visited_right():\n",
    "                node_state.set_visited_right()\n",
    "                current_node = current_node.get_right_node()\n",
    "                node_state = NodeState(current_node)\n",
    "                state_stack.push(node_state)\n",
    "            else:\n",
    "                state_stack.pop()\n",
    "                if state_stack.is_empty():\n",
    "                    print(\"Tree traversal complete\")\n",
    "                    break\n",
    "                node_state = state_stack.top()\n",
    "                current_node = node_state.get_node()"
   ]
  },
  {
   "cell_type": "code",
   "execution_count": 115,
   "id": "0eea6e23-7cdb-4cc2-8614-17a185fc78bd",
   "metadata": {},
   "outputs": [
    {
     "name": "stdout",
     "output_type": "stream",
     "text": [
      "current node value: Sarah\n",
      "current node value: Maria\n",
      "current node value: Michael\n",
      "current node value: Maria\n",
      "current node value: Lisa\n",
      "current node value: Maria\n",
      "current node value: Sarah\n",
      "current node value: Ken\n",
      "current node value: Sarah\n",
      "Tree traversal complete\n"
     ]
    }
   ],
   "source": [
    "family_tree = BinaryTree(mother) \n",
    "family_tree.pre_order_dfs()"
   ]
  },
  {
   "cell_type": "markdown",
   "id": "7f16006e-be8d-4d9d-ba45-9e50402cbe7c",
   "metadata": {},
   "source": [
    "## Conclusion\n",
    "\n",
    "This notebook shows a very simple implementation of a binary tree. Due to its simularities to a linked list, it is very straightforward to implement. Travesing the tree however, takes a bit more effort and additional data structures as stacks.\n",
    "\n",
    "Although \"exotic\" at first glance, a binary tree is an important and commonly used data structure. An example of its usage is a binary search tree that is structured as: smaller numerical values are placed at the left child nodes and greater values at the right child nodes.\n",
    "\n",
    "Considering a binary search tree with the integer 7 as the root node, we would have the following structure\n",
    "```\n",
    "         7\n",
    "       /   \\\n",
    "      5     10\n",
    "    /  \\\n",
    "   3    6\n",
    "```\n",
    "\n",
    "This structure eables an efficient search and update (of `O(log(n))`).\n",
    "\n",
    "Additionally, binary trees are also the \"gateway\" to the most common datastructure for large (semi structured) datasets: the graph."
   ]
  },
  {
   "cell_type": "code",
   "execution_count": null,
   "id": "32020495-fb4f-45f6-8d2f-ad08219fce9d",
   "metadata": {},
   "outputs": [],
   "source": []
  }
 ],
 "metadata": {
  "kernelspec": {
   "display_name": "Python 3 (ipykernel)",
   "language": "python",
   "name": "python3"
  },
  "language_info": {
   "codemirror_mode": {
    "name": "ipython",
    "version": 3
   },
   "file_extension": ".py",
   "mimetype": "text/x-python",
   "name": "python",
   "nbconvert_exporter": "python",
   "pygments_lexer": "ipython3",
   "version": "3.9.5"
  }
 },
 "nbformat": 4,
 "nbformat_minor": 5
}
