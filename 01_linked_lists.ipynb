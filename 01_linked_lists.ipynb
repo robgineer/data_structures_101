{
 "cells": [
  {
   "cell_type": "markdown",
   "id": "45366f45-29c2-4c3b-b09d-0e6cb77b1a6c",
   "metadata": {},
   "source": [
    "# Linked Lists\n",
    "\n",
    "One of the most common datastructures used (especially for coding interviews) are linked lists. They are rather easy to implement and to be honest, not the most practical datastructure (at least to my opinion). However, since they represent one of the basic concepts in programming, the following code snippets aim to show their basic implementation.\n"
   ]
  },
  {
   "cell_type": "markdown",
   "id": "2977384e-0268-4d6a-8cb9-ba65fb7dd1af",
   "metadata": {},
   "source": [
    "## A Basic Implementation\n",
    "\n",
    "A linked list contains nodes that hold a value and a reference to its successor.\n",
    "```\n",
    "Node1  -->  Node2   --> ...\n",
    "-value      -value\n",
    "\n",
    "```\n",
    "...\n",
    "\n",
    "There are two special nodes: the head (that has no reference to a predecessor) and the tail (that has no reference to a successor).\n",
    "\n",
    "Thats it. There is nothing more to it.\n",
    "\n",
    "Lets program one."
   ]
  },
  {
   "cell_type": "code",
   "execution_count": 2,
   "id": "66f34cda-9405-49b4-97e5-ada18d57db0f",
   "metadata": {},
   "outputs": [],
   "source": [
    "class Node:\n",
    "    def __init__(self, value):\n",
    "        self.value = value\n",
    "        self.next = None"
   ]
  },
  {
   "cell_type": "markdown",
   "id": "48db6ca7-9e9c-4e75-bc4b-c02c463d9f97",
   "metadata": {},
   "source": [
    "The code above represents a fully implemented node (aka one element of a linked list) and creating a list of these is a rather simple excercise."
   ]
  },
  {
   "cell_type": "code",
   "execution_count": 3,
   "id": "62f1c012-589f-4080-8f85-7635332951dc",
   "metadata": {},
   "outputs": [],
   "source": [
    "head = Node(1)\n",
    "head.next = Node(99)"
   ]
  },
  {
   "cell_type": "markdown",
   "id": "0fab4199-01a8-4d32-8111-d60fc9aff7f1",
   "metadata": {},
   "source": [
    "This list is a interesting one as it contains only the two \"special\" nodes mentioned before: the head and the tail.\n",
    "Accessing the tail "
   ]
  },
  {
   "cell_type": "code",
   "execution_count": 4,
   "id": "e5da80e1-1eb1-4658-979a-c28bb0c4c834",
   "metadata": {},
   "outputs": [
    {
     "name": "stdout",
     "output_type": "stream",
     "text": [
      "1\n",
      "99\n"
     ]
    }
   ],
   "source": [
    "print(head.value)\n",
    "print(head.next.value)"
   ]
  },
  {
   "cell_type": "code",
   "execution_count": 6,
   "id": "1c47dacf-07a9-446b-ba39-bb82c3c98dfb",
   "metadata": {},
   "outputs": [
    {
     "name": "stdout",
     "output_type": "stream",
     "text": [
      "1\n",
      "99\n",
      "101\n",
      "102\n"
     ]
    }
   ],
   "source": [
    "# lets add more nodes and print the values of each\n",
    "\n",
    "head.next.next = Node(101)\n",
    "head.next.next.next = Node(102)\n",
    "\n",
    "current_node = head\n",
    "# print value of first node\n",
    "print(head.value)\n",
    "# print value of all connected nodes\n",
    "while current_node.next:\n",
    "    print(current_node.next.value)\n",
    "    current_node = current_node.next"
   ]
  },
  {
   "cell_type": "markdown",
   "id": "db54298f-0dfb-4862-8542-eab5fe3371b8",
   "metadata": {},
   "source": [
    "We can see that creating a list with the current simple code is a tidious encounter. Lets think of something more comfortable.\n",
    "\n",
    "Keeping in mind that all we do in order to create a linked list assigining new nodes to the `next` attribute, lets place the code into a function that accepts a list of values and returns the first element of a linked list."
   ]
  },
  {
   "cell_type": "code",
   "execution_count": 11,
   "id": "75fd60cd-9b5c-4f78-8e97-121817d20ebb",
   "metadata": {},
   "outputs": [],
   "source": [
    "def create_linked_list(list_of_values: list):\n",
    "    \"\"\" Creates a linked list from values of a list \n",
    "    \n",
    "        Args:\n",
    "            list_of_values: list of values for linked list.\n",
    "                            Each value is added to a node.\n",
    "        Returns:\n",
    "            first node of a linked list (head node).\n",
    "    \"\"\"\n",
    "    # define the two special nodes\n",
    "    head = None  # first node (has no predecessor)\n",
    "    tail = None  # last node (has no successor)\n",
    "\n",
    "    # iterate through the values    \n",
    "    for item in list_of_values:\n",
    "        if head is None:\n",
    "            # this is the first iteration, create the first and last node\n",
    "            # both holding the same value\n",
    "            head = Node(item) # assign value to node\n",
    "            tail = head       # same as head (at the beginning)\n",
    "        else:\n",
    "            # these are all subsequent iterations\n",
    "            tail.next = Node(item) # since tail == head at the beginning, we update head.next during the second iteration\n",
    "            tail = tail.next\n",
    "    return head"
   ]
  },
  {
   "cell_type": "code",
   "execution_count": 12,
   "id": "187c0da6-304b-4b09-b06a-d8a290be624e",
   "metadata": {},
   "outputs": [
    {
     "name": "stdout",
     "output_type": "stream",
     "text": [
      "0\n",
      "1\n",
      "2\n"
     ]
    }
   ],
   "source": [
    "# lets also create a function that would traverse the list and print all elements\n",
    "def print_values_of_linked_list(head):\n",
    "    current_node = head\n",
    "    while current_node:\n",
    "        print(current_node.value)\n",
    "        current_node = current_node.next\n",
    "\n",
    "\n",
    "head_node = create_linked_list([0,1,2])\n",
    "print_values_of_linked_list(head_node)"
   ]
  },
  {
   "cell_type": "markdown",
   "id": "80421256-92ff-4719-a43e-c151a3bef1ee",
   "metadata": {},
   "source": [
    "Thats all about basic linked lists. The code above shows an implementation, a creation and a traversion trough a basic linked list.\n",
    "\n",
    "Lets see if we can spice things up"
   ]
  },
  {
   "cell_type": "markdown",
   "id": "4d89510d-7dda-4fa8-8e10-e46d6b31461c",
   "metadata": {},
   "source": [
    "## A More Interesting Implementation\n",
    "\n",
    "Considering the fact that we have defined a class for a node but had to create helper functions for the actual creation and traversial of a linked list, could be interpreted a bit \"lazy\" and less intuitive. Moreover, we have not yet talked about the extension of a linked list, which is most probably their one and only advantage. \n",
    "\n",
    "Lets think of an array, where we address single elements using indices. Adding a new item at a specific index, would require to update all elements that are indexed after the intented update.\n",
    "Example: consider an array with indices 0 - 3. Adding an item at element 1 would require to update all indices >= 1.\n",
    "```\n",
    "[0], [1], [2], [3]  => [0], [1], [1+1], [2+1], [3+1] \n",
    "\n",
    "```\n",
    "\n",
    "And this is where the list \"shines\". Updating an element would require to change only two references. The predecessor and the successor.\n",
    "\n",
    "Example: adding a node in between two nodes:\n",
    "\n",
    "```\n",
    "Node1  -->  Node2   =>   Node1  -->  NodeNew   -->  Node2\n",
    "-value      -value       -value      -value         -value\n",
    "\n",
    "```\n",
    "\n",
    "Lets focus on encapsulating the `create_linked_list` helper into a class."
   ]
  },
  {
   "cell_type": "code",
   "execution_count": 1,
   "id": "1ff30ddc-d8b3-430c-b9e2-d9907134c507",
   "metadata": {},
   "outputs": [],
   "source": [
    "# the Node class from above\n",
    "class Node:\n",
    "    def __init__(self, value):\n",
    "        self.value = value\n",
    "        self.next = None\n",
    "\n",
    "# the LinkedList class that contains the useful helpers\n",
    "class LinkedList:\n",
    "    def __init__(self):\n",
    "        self.head = None\n",
    "        \n",
    "    def append(self, value):\n",
    "        \"\"\" Append a node at the end of the linked list \"\"\"\n",
    "        if self.head is None:\n",
    "            self.head = Node(value)\n",
    "            return\n",
    "\n",
    "        node = self.head\n",
    "        while node.next:\n",
    "            node = node.next\n",
    "        \n",
    "        node.next = Node(value)\n",
    "        return\n",
    "\n",
    "    def print_values(self):\n",
    "        \"\"\" Traverse LinkedList and print values \"\"\"\n",
    "        current_node = self.head\n",
    "        while current_node:\n",
    "            print(current_node.value)\n",
    "            current_node = current_node.next\n",
    "\n",
    "        "
   ]
  },
  {
   "cell_type": "markdown",
   "id": "c048b36d-0e02-4576-b3e6-02c9736d236e",
   "metadata": {},
   "source": [
    "Ok, whats the catch? All we did was to create a class that appends an item at the end. A simple Python list can do that as too. \n",
    "\n",
    "=> Well, yes. It can. The difference is not yet present but we will see that sorting a linked list is a bit easier as we are missing the indexes that are present in Python lists (aka \"arrays\").\n"
   ]
  },
  {
   "cell_type": "code",
   "execution_count": 9,
   "id": "bbf143b1-d13c-4f70-b756-a0e50b9048b9",
   "metadata": {},
   "outputs": [
    {
     "name": "stdout",
     "output_type": "stream",
     "text": [
      "1\n",
      "2\n",
      "4\n"
     ]
    }
   ],
   "source": [
    "linked_list = LinkedList()\n",
    "linked_list.append(1)\n",
    "linked_list.append(2)\n",
    "linked_list.append(4)\n",
    "\n",
    "linked_list.print_values()"
   ]
  },
  {
   "cell_type": "markdown",
   "id": "9b03c5e2-826b-430a-b5ed-89183e06fde2",
   "metadata": {},
   "source": [
    "## The Doubly Linked List\n",
    "\n",
    "Our current LinkedList allows to traverse in ONE direction ```head -> tail```. A more efficient approach is to allow bi-directional links.\n"
   ]
  },
  {
   "cell_type": "code",
   "execution_count": 22,
   "id": "2da8c3c8-166a-4126-8f40-302057d809e3",
   "metadata": {},
   "outputs": [],
   "source": [
    "class BiDirectionalNode:\n",
    "    \"\"\" Node with bi-directional links\"\"\"\n",
    "\n",
    "    def __init__(self, value):\n",
    "        self.value = value\n",
    "        self.next = None\n",
    "        self.previous = None # thats the only differece compared to a singly linked list\n",
    "\n",
    "class DoublyLinkedList:\n",
    "    def __init__(self):\n",
    "        self.head = None\n",
    "        self.tail = None  # we now need to remember the tail in order to be able to traverse backwards\n",
    "    \n",
    "    def append(self, value):\n",
    "        if self.head is None:\n",
    "            self.head = BiDirectionalNode(value)\n",
    "            self.tail = self.head   # init tail with head\n",
    "            return\n",
    "            \n",
    "        self.tail.next = BiDirectionalNode(value)\n",
    "        self.tail.next.previous = self.tail   # set previous link to old tail\n",
    "        self.tail = self.tail.next            # update tail\n",
    "        return\n",
    "\n",
    "    def print_values(self, forward = True):\n",
    "        \"\"\" Traverse DoublyLinkedList and print values \"\"\"\n",
    "        current_node = self.head\n",
    "        if not forward:\n",
    "            current_node = self.tail\n",
    "        while current_node:\n",
    "            print(current_node.value)\n",
    "            if forward:\n",
    "                current_node = current_node.next\n",
    "            else:\n",
    "                current_node = current_node.previous"
   ]
  },
  {
   "cell_type": "code",
   "execution_count": 21,
   "id": "8f9a8226-05cb-4863-b4f5-b64f5b96ab33",
   "metadata": {},
   "outputs": [
    {
     "name": "stdout",
     "output_type": "stream",
     "text": [
      "traverse forward\n",
      "1\n",
      "2\n",
      "4\n",
      "traverse backwards\n",
      "4\n",
      "2\n",
      "1\n"
     ]
    }
   ],
   "source": [
    "linked_list = DoublyLinkedList()\n",
    "linked_list.append(1)\n",
    "linked_list.append(2)\n",
    "linked_list.append(4)\n",
    "\n",
    "print(\"traverse forward\")\n",
    "linked_list.print_values()\n",
    "print(\"traverse backwards\")\n",
    "linked_list.print_values(forward = False)"
   ]
  }
 ],
 "metadata": {
  "kernelspec": {
   "display_name": "Python 3 (ipykernel)",
   "language": "python",
   "name": "python3"
  },
  "language_info": {
   "codemirror_mode": {
    "name": "ipython",
    "version": 3
   },
   "file_extension": ".py",
   "mimetype": "text/x-python",
   "name": "python",
   "nbconvert_exporter": "python",
   "pygments_lexer": "ipython3",
   "version": "3.9.5"
  }
 },
 "nbformat": 4,
 "nbformat_minor": 5
}
