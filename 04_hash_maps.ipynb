{
 "cells": [
  {
   "cell_type": "markdown",
   "id": "29836dbb-6d78-41ba-927e-eecd5d3141a7",
   "metadata": {},
   "source": [
    "# Hash-Maps\n",
    "\n",
    "\n",
    "Representing one of the mostly used and handy datastructure. A hash-map has a major advantage over all datastructures: accessing elements with constant complexity using a hash function.\n",
    "\n",
    "Lets discuss a plain map first.\n",
    "\n",
    "\n",
    "## Maps\n",
    "A map is basically a set of keys, each corresponding to value. \n",
    "\n",
    "The array with its index does represent such a map. There is a big difference, however. The keys (aka the indexes) are generated automatically based on the position of the value in the array.\n",
    "\n",
    "Example: lets consider a Python list holding three names:\n",
    "\n",
    "```names = [\"Paul\", \"Duncan\", \"Leto\"]```\n",
    "\n",
    "The corresponding keys are represented by the order of the list and hence\n",
    "\n",
    "```\n",
    "names[0] = \"Paul\"\n",
    "names[1] = \"Duncan\"\n",
    "names[2] = \"Leto\"\n",
    "```\n",
    "\n",
    "We could, of course define our own keys and create a more flexible map that would not need to be dependent on the positions in the list. \n",
    "\n",
    "### A Simple Map Implementation\n",
    "\n",
    "For a simple map, we do not really need much. A key and a value attribute in class. Let's try it out.\n"
   ]
  },
  {
   "cell_type": "code",
   "execution_count": 6,
   "id": "206e921c-fe04-4b5f-a5ad-6180d20d0a90",
   "metadata": {},
   "outputs": [
    {
     "name": "stdout",
     "output_type": "stream",
     "text": [
      "Atreides\n",
      "Idaho\n"
     ]
    }
   ],
   "source": [
    "class KeyValueItem:\n",
    "    def __init__(self, key, value):\n",
    "        self.key = key\n",
    "        self.value = value\n",
    "    \n",
    "\n",
    "class SimpleMap:\n",
    "    def __init__(self):\n",
    "        self.list_of_key_values = []\n",
    "\n",
    "    def add(self, key, value):\n",
    "        key_value_item = KeyValueItem(key, value)\n",
    "        self.list_of_key_values.append(key_value_item)\n",
    "\n",
    "    def get_item(self, key):\n",
    "        for item in self.list_of_key_values:\n",
    "            if item.key == key:\n",
    "                return item.value\n",
    "\n",
    "map = SimpleMap()\n",
    "map.add(\"Paul\", \"Atreides\")\n",
    "map.add(\"Duncan\", \"Idaho\")\n",
    "\n",
    "print(map.get_item(\"Paul\"))\n",
    "print(map.get_item(\"Duncan\"))"
   ]
  },
  {
   "cell_type": "markdown",
   "id": "0ecdbb7c-e2ad-40fa-a71c-4df5b7d0bf3a",
   "metadata": {},
   "source": [
    "In order to store a flexible amount of data, we have created a list that holds the key value pairs. To get the value corresponding to a key, we would need to iterate through that list.\n",
    "\n",
    "Not very efficient, right?! Well, this is where hashing comes in handy.\n"
   ]
  },
  {
   "cell_type": "markdown",
   "id": "0c2c5901-9415-4b66-800d-ce97ca981d43",
   "metadata": {},
   "source": [
    "## Hashing in Maps\n",
    "\n",
    "\n",
    "From all the datastructures we have looked into within the scope of the last notebooks, the array with its index is the most efficient one if it comes to accessing an information, **provided we know the index in advance!**\n",
    "\n",
    "Example: if we have the names list from above, accessing the value of \"Paul\" has complexity `O(1)` in case we know that the value is stored at index `0`. \n",
    "```\n",
    "names[0] = \"Paul\"\n",
    "```\n",
    "\n",
    "There is simply no need for a search. Hence, no iteration through the list is necessary. \n",
    "\n",
    "Now, keeping this efficiency in mind, we can come up with a procedure for converting high level information such as the name \"Paul\" into a (compact) low level information such as an index. **This procedure is called hashing.**\n",
    "\n",
    "\n",
    "#### A simple hash algorithm\n",
    "Let's say we have a big number and we want to convert this number into a smaller one, we could use the last two digits and divide the number represented by these digits by a fixed number. The result would be a hash value that we can use as an index.\n",
    "\n",
    "Let's try this out.\n",
    "Idea: use `int` representation of the last letter in a string and divide the resulting number by a constant."
   ]
  },
  {
   "cell_type": "code",
   "execution_count": 45,
   "id": "146a6de5-3b36-46f5-9da0-89bd509fc264",
   "metadata": {},
   "outputs": [
    {
     "name": "stdout",
     "output_type": "stream",
     "text": [
      "12\n"
     ]
    }
   ],
   "source": [
    "def generate_hash_value_from_string(string):\n",
    "    fixed_number = 9\n",
    "    return int((ord(string[-1])/fixed_number))\n",
    "\n",
    "print(generate_hash_value_from_string(\"Paul\"))\n"
   ]
  },
  {
   "cell_type": "markdown",
   "id": "bc447af0-33ed-4368-9531-f06e76d21458",
   "metadata": {},
   "source": [
    "=> seems that we have a good index. Lets put this function into our HashMap.\n",
    "\n",
    "We would need to adjust the code from above a little bit.\n",
    "1. Instead of appending items into the array one by one, we will use the index represented by the hash\n",
    "2. Since we now have fixed indexes, we need to initialize the array holding our key value items in advance\n"
   ]
  },
  {
   "cell_type": "code",
   "execution_count": 40,
   "id": "254690f9-bcf7-4df6-bd15-b9c17ca79c36",
   "metadata": {},
   "outputs": [
    {
     "name": "stdout",
     "output_type": "stream",
     "text": [
      "Idaho\n",
      "Idaho\n"
     ]
    }
   ],
   "source": [
    "class KeyValueItem:\n",
    "    def __init__(self, key, value):\n",
    "        self.key = key\n",
    "        self.value = value\n",
    "    \n",
    "\n",
    "class HashMap:\n",
    "    def __init__(self, initial_list_size = 100):\n",
    "        # initialize size of list\n",
    "        self.list_of_key_values = [None for _ in range(initial_list_size)]\n",
    "\n",
    "    def generate_hash_value_from_string(string):\n",
    "        fixed_number = 9\n",
    "        return int((ord(string[-1])/fixed_number))\n",
    "\n",
    "    def add_item(self, key, value):\n",
    "        key_value_item = KeyValueItem(key, value)\n",
    "        hash_value_from_key = generate_hash_value_from_string(key)\n",
    "        self.list_of_key_values[hash_value_from_key] = key_value_item\n",
    "\n",
    "    def get_item(self, key):\n",
    "        hash_value_from_key = generate_hash_value_from_string(key)\n",
    "        return self.list_of_key_values[hash_value_from_key].value\n",
    "\n",
    "map = HashMap()\n",
    "map.add_item(\"Paul\", \"Atreides\")\n",
    "map.add_item(\"Duncan\", \"Idaho\")\n",
    "\n",
    "print(map.get_item(\"Paul\"))\n",
    "print(map.get_item(\"Duncan\"))"
   ]
  },
  {
   "cell_type": "markdown",
   "id": "04ff1583-0e22-4ecb-b89e-8166d577e22b",
   "metadata": {},
   "source": [
    "It seems that we are doing something wrong as we are overriding values in our array. \n",
    "\n",
    "A closer look reveals that the hash values for \"Paul\" \"Idaho\" are identical. This implies that we override the array at index 12."
   ]
  },
  {
   "cell_type": "code",
   "execution_count": 23,
   "id": "85535fa1-e5d8-406a-a067-7cce704bc0e2",
   "metadata": {},
   "outputs": [
    {
     "name": "stdout",
     "output_type": "stream",
     "text": [
      "12\n",
      "12\n"
     ]
    }
   ],
   "source": [
    "def generate_hash_value_from_string(string):\n",
    "    fixed_number = 9\n",
    "    return int((ord(string[-1])/fixed_number))\n",
    "\n",
    "print(generate_hash_value_from_string(\"Paul\"))\n",
    "print(generate_hash_value_from_string(\"Idaho\"))"
   ]
  },
  {
   "cell_type": "markdown",
   "id": "90f18303-1d4f-4e84-a9fb-16e38a9c000b",
   "metadata": {},
   "source": [
    "### Collision Handling\n",
    "\n",
    "The issue above is common when using hash values and is referred to as collisions. Handling collisions is an interesting topic on its own and we would focus on the most basic approaches here.\n",
    "\n",
    "One way to handle them is to **adjust the hash function**:\n",
    "\n",
    "We could, of course use more letters for our hash value. This would imply bigger indices and hence a bigger size of the underlying array => it is not beneficial to reserve many items in an array just in order to make sure that we will not override them.\n",
    "\n",
    "Another idea is to **accept these collisions and come up with a more general solution** (which we will discuss in the following).\n",
    "\n",
    "In practice, we use a combination of both: advanced hash functions (implying small chances for collisions) as well as handling collisions in the hash map.\n",
    "\n",
    "\n",
    "For the latter, we would need to re-think the implementation of our array holding the key value items. Why just use one array, when we can have a nested one?\n",
    "\n",
    "The idea is simple: instead of just storing the key value items into ONE array based on the index resulting from a hash value, we could create a second array representing items with identical hash values. This nested array, we would call our \"bucket\".\n",
    "\n",
    "Sounds a bit more complicated than it actually is. Let's just give it a try"
   ]
  },
  {
   "cell_type": "code",
   "execution_count": 44,
   "id": "83da9b20-fca6-4364-af9c-c75266ebddf5",
   "metadata": {},
   "outputs": [
    {
     "name": "stdout",
     "output_type": "stream",
     "text": [
      "Atreides\n",
      "Idaho\n"
     ]
    }
   ],
   "source": [
    "class KeyValueItem:\n",
    "    def __init__(self, key, value):\n",
    "        self.key = key\n",
    "        self.value = value\n",
    "\n",
    "class HashMap:\n",
    "    def __init__(self, initial_list_size = 100):\n",
    "        # initialize size of list with lists\n",
    "        self.buckets = [[] for _ in range(initial_list_size)]\n",
    "\n",
    "    def generate_hash_value_from_string(string):\n",
    "        fixed_number = 9\n",
    "        return int((ord(string[-1])/fixed_number))\n",
    "\n",
    "    def add_item(self, key, value):\n",
    "        key_value_item = KeyValueItem(key, value)\n",
    "        hash_value_from_key = generate_hash_value_from_string(key)\n",
    "        if key_value_item not in self.buckets[hash_value_from_key]:\n",
    "            self.buckets[hash_value_from_key].append(key_value_item)\n",
    "\n",
    "    def get_item(self, key):\n",
    "        hash_value_from_key = generate_hash_value_from_string(key)\n",
    "        for item in self.buckets[hash_value_from_key]:\n",
    "            if item.key == key:\n",
    "                return item.value\n",
    "\n",
    "map = HashMap()\n",
    "map.add_item(\"Paul\", \"Atreides\")\n",
    "map.add_item(\"Duncan\", \"Idaho\")\n",
    "\n",
    "print(map.get_item(\"Paul\"))\n",
    "print(map.get_item(\"Duncan\"))"
   ]
  },
  {
   "cell_type": "markdown",
   "id": "d5a34922-bea6-4d6b-908c-7cab9a5899a0",
   "metadata": {},
   "source": [
    "So, we do iterate after all ?! Yes, but over small arrays that are hopefully distinct (depending on the hash function used). \n",
    "\n",
    "Note, that in many implementations, a linked list is suggested for the nested part. Since we do nothing than iterating within the nested list, I left the usage of a linked list out of the implementation above.\n",
    "\n",
    "Also note that in practice we use a combination of both approaches for collision handling: advanced hash functions (implying small chances for collisions) as well as handling collisions in the Hash Map using the bucket."
   ]
  },
  {
   "cell_type": "markdown",
   "id": "bf9935d3-aafa-42d4-b307-83efaeb6692f",
   "metadata": {},
   "source": [
    "### Re-Hashing\n",
    "\n",
    "An important aspect when working with hash maps is re-hashing which becomes necessary when the bucket exceeds a certain size.\n",
    "\n",
    "Since the bucket size is defined upon the creation of the hash map and since we want to enable a dynamic expansion of the hash map, the bucket might require re-sizing. This happens in case we have placed a high number of elements (with unique hash values) into the map. In general we re-hash the bucket after it reaches a load of 70%.\n",
    "\n",
    "Re-hashing is a straighforward procedure related to re-sizing fixed sized arrays:\n",
    "\n",
    "1. copy initial array\n",
    "2. create new array with increased size\n",
    "3. place copy of initial array into new array\n",
    "\n",
    "This operation has complexity of `O(n)` implying that hash maps are not ALWAYS have constant time.\n",
    "\n",
    "So, can we still expect a constant complexity when acessing items from a hash map? Well, there is no straightforward answer to this but in practise, we DO expect constant complexity due to the reasons mentioned previously:\n",
    "\n",
    "1. most hash maps use advanced hash functions (implying almost no collisions)\n",
    "2. although the worst case implies `O(n)`, re-hashings are rare events that are mostly neglected for the complexity considerations."
   ]
  }
 ],
 "metadata": {
  "kernelspec": {
   "display_name": "Python 3 (ipykernel)",
   "language": "python",
   "name": "python3"
  },
  "language_info": {
   "codemirror_mode": {
    "name": "ipython",
    "version": 3
   },
   "file_extension": ".py",
   "mimetype": "text/x-python",
   "name": "python",
   "nbconvert_exporter": "python",
   "pygments_lexer": "ipython3",
   "version": "3.9.5"
  }
 },
 "nbformat": 4,
 "nbformat_minor": 5
}
